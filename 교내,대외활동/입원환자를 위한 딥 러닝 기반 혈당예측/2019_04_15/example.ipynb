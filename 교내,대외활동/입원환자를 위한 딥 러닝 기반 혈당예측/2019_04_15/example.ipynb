{
 "cells": [
  {
   "cell_type": "code",
   "execution_count": 1,
   "metadata": {
    "collapsed": false
   },
   "outputs": [
    {
     "name": "stderr",
     "output_type": "stream",
     "text": [
      "Using TensorFlow backend.\n"
     ]
    },
    {
     "ename": "ValueError",
     "evalue": "could not convert string to float: '10,11.6\\n'",
     "output_type": "error",
     "traceback": [
      "\u001b[0;31m---------------------------------------------------------------------------\u001b[0m",
      "\u001b[0;31mValueError\u001b[0m                                Traceback (most recent call last)",
      "\u001b[0;32m<ipython-input-1-66ffb8dc1bd9>\u001b[0m in \u001b[0;36m<module>\u001b[0;34m()\u001b[0m\n\u001b[1;32m     77\u001b[0m         \u001b[0mprint\u001b[0m\u001b[0;34m(\u001b[0m\u001b[0mfn\u001b[0m\u001b[0;34m+\u001b[0m\u001b[0;34m\"제외\"\u001b[0m\u001b[0;34m)\u001b[0m\u001b[0;34m\u001b[0m\u001b[0m\n\u001b[1;32m     78\u001b[0m     \u001b[0;32melse\u001b[0m\u001b[0;34m:\u001b[0m\u001b[0;34m\u001b[0m\u001b[0m\n\u001b[0;32m---> 79\u001b[0;31m         \u001b[0mx\u001b[0m\u001b[0;34m,\u001b[0m\u001b[0my\u001b[0m \u001b[0;34m=\u001b[0m \u001b[0mreadData\u001b[0m\u001b[0;34m(\u001b[0m\u001b[0;34m\"sch/\"\u001b[0m\u001b[0;34m+\u001b[0m\u001b[0mstr\u001b[0m\u001b[0;34m(\u001b[0m\u001b[0mfn\u001b[0m\u001b[0;34m)\u001b[0m\u001b[0;34m)\u001b[0m\u001b[0;34m\u001b[0m\u001b[0m\n\u001b[0m\u001b[1;32m     80\u001b[0m         \u001b[0mtrain_x_data\u001b[0m\u001b[0;34m.\u001b[0m\u001b[0mappend\u001b[0m\u001b[0;34m(\u001b[0m\u001b[0mx\u001b[0m\u001b[0;34m)\u001b[0m\u001b[0;34m\u001b[0m\u001b[0m\n\u001b[1;32m     81\u001b[0m         \u001b[0;31m#total_x_data.append(x)\u001b[0m\u001b[0;34m\u001b[0m\u001b[0;34m\u001b[0m\u001b[0m\n",
      "\u001b[0;32m<ipython-input-1-66ffb8dc1bd9>\u001b[0m in \u001b[0;36mreadData\u001b[0;34m(filename)\u001b[0m\n\u001b[1;32m     23\u001b[0m     \u001b[0;32mwith\u001b[0m \u001b[0mopen\u001b[0m\u001b[0;34m(\u001b[0m\u001b[0mfilename\u001b[0m\u001b[0;34m,\u001b[0m\u001b[0;34m'r'\u001b[0m\u001b[0;34m)\u001b[0m \u001b[0;32mas\u001b[0m \u001b[0mf\u001b[0m\u001b[0;34m:\u001b[0m\u001b[0;34m\u001b[0m\u001b[0m\n\u001b[1;32m     24\u001b[0m         \u001b[0;32mfor\u001b[0m \u001b[0mline\u001b[0m \u001b[0;32min\u001b[0m \u001b[0mf\u001b[0m\u001b[0;34m:\u001b[0m\u001b[0;34m\u001b[0m\u001b[0m\n\u001b[0;32m---> 25\u001b[0;31m             \u001b[0mEntryData\u001b[0m\u001b[0;34m.\u001b[0m\u001b[0mappend\u001b[0m\u001b[0;34m(\u001b[0m\u001b[0mfloat\u001b[0m\u001b[0;34m(\u001b[0m\u001b[0mline\u001b[0m\u001b[0;34m)\u001b[0m\u001b[0;34m)\u001b[0m\u001b[0;34m\u001b[0m\u001b[0m\n\u001b[0m\u001b[1;32m     26\u001b[0m \u001b[0;34m\u001b[0m\u001b[0m\n\u001b[1;32m     27\u001b[0m     \u001b[0mdf\u001b[0m \u001b[0;34m=\u001b[0m \u001b[0mpd\u001b[0m\u001b[0;34m.\u001b[0m\u001b[0mSeries\u001b[0m\u001b[0;34m(\u001b[0m\u001b[0mEntryData\u001b[0m\u001b[0;34m)\u001b[0m\u001b[0;34m\u001b[0m\u001b[0m\n",
      "\u001b[0;31mValueError\u001b[0m: could not convert string to float: '10,11.6\\n'"
     ]
    }
   ],
   "source": [
    "import keras\n",
    "import tensorflow as tf\n",
    "import os\n",
    "import pandas as pd\n",
    "import math\n",
    "import numpy as np\n",
    "import matplotlib.pylab as plt\n",
    "import csv\n",
    "\n",
    "from keras.models import Sequential\n",
    "from keras.layers import Dense\n",
    "from keras.layers import LSTM\n",
    "from keras.utils import np_utils\n",
    "\n",
    "PH = 5\n",
    "\n",
    "def readData(filename):\n",
    "    EntryData = []\n",
    "    x_data = []\n",
    "    y_data = []\n",
    "    tmp_x = []\n",
    "    tmp_y = []\n",
    "    with open(filename,'r') as f:\n",
    "        for line in f:\n",
    "            EntryData.append(float(line))\n",
    "    \n",
    "    df = pd.Series(EntryData)\n",
    "\n",
    "    while True:\n",
    "        for i in df[0:7]:\n",
    "            tmp_x.append([float(i)])\n",
    "        tmp_y.append(float(df[7 + (PH/5)]))\n",
    "        x_data.append(tmp_x)\n",
    "        y_data.append(tmp_y)\n",
    "        \n",
    "        tmp_x = []\n",
    "        tmp_y = []\n",
    "        df = df.shift(-1)\n",
    "        if(math.isnan(df[7+(PH/5)])):\n",
    "            break\n",
    "        \n",
    "    if(len(x_data[-1]) != 7):\n",
    "       xSize = 7-len(x_data[-1])\n",
    "       for i in range(xSize):\n",
    "           x_data[-1].append(0.0)\n",
    "    if(len(y_data[-1])!=1):\n",
    "       y_data[-1].append(0.0)\n",
    "    \n",
    "    x_data = np.asarray(x_data)\n",
    "    y_data = np.asarray(y_data)\n",
    "    data = [x_data,y_data]\n",
    "    return data\n",
    "\n",
    "\n",
    "\n",
    "filename = os.listdir(\"sch\")\n",
    "\n",
    "train_data_name = []\n",
    "test_data_name = []\n",
    "\n",
    "for fn in filename:\n",
    "    if fn.find(\"test\") != -1:\n",
    "        test_data_name.append(fn)\n",
    "    elif fn.find(\"train\") != -1:\n",
    "        train_data_name.append(fn)\n",
    "\n",
    "#total_x_data = []\n",
    "#total_y_data = []        \n",
    "\n",
    "train_x_data = []\n",
    "train_y_data = []\n",
    "\n",
    "for fn in train_data_name:\n",
    "    if fn.find(\"885633\") != -1:\n",
    "        print(fn+\"제외\")\n",
    "    elif fn.find(\"365303\") != -1:\n",
    "        print(fn+\"제외\")\n",
    "    else:\n",
    "        x,y = readData(\"sch/\"+str(fn))\n",
    "        train_x_data.append(x)\n",
    "        #total_x_data.append(x)\n",
    "        train_y_data.append(y)\n",
    "        #total_y_data.append(y)\n",
    "\n",
    "\n",
    "test_x_data = []\n",
    "test_y_data = []\n",
    "for fn in test_data_name:\n",
    "    if fn.find(\"885633\") != -1:\n",
    "        print(fn+\"제외\")\n",
    "    elif fn.find(\"365303\") != -1:\n",
    "        print(fn+\"제외\")\n",
    "    else:\n",
    "        x,y = readData(\"sch/\"+str(fn))\n",
    "        test_x_data.append(x)\n",
    "        #total_x_data.append(x)\n",
    "        test_y_data.append(y)\n",
    "        #total_y_data.append(y)\n",
    "#print(A1cList)\n",
    "#print(total_y_data)\n",
    "#print(train_x_data[3])"
   ]
  },
  {
   "cell_type": "code",
   "execution_count": null,
   "metadata": {
    "collapsed": false
   },
   "outputs": [],
   "source": [
    "model = Sequential()\n",
    "model.add(LSTM(15,input_shape=(7,1)))\n",
    "model.add(Dense(1,activation=\"linear\"))\n",
    "model.compile(loss='mean_squared_error',optimizer='adam')"
   ]
  },
  {
   "cell_type": "code",
   "execution_count": null,
   "metadata": {
    "collapsed": false
   },
   "outputs": [],
   "source": [
    "model.fit(train_x_data,train_y_data,epochs=500,batch_size=1)"
   ]
  },
  {
   "cell_type": "code",
   "execution_count": null,
   "metadata": {
    "collapsed": true
   },
   "outputs": [],
   "source": [
    "y_pred = model.predict(test_x_data[0])"
   ]
  }
 ],
 "metadata": {
  "kernelspec": {
   "display_name": "Python 3",
   "language": "python",
   "name": "python3"
  },
  "language_info": {
   "codemirror_mode": {
    "name": "ipython",
    "version": 3
   },
   "file_extension": ".py",
   "mimetype": "text/x-python",
   "name": "python",
   "nbconvert_exporter": "python",
   "pygments_lexer": "ipython3",
   "version": "3.4.5"
  }
 },
 "nbformat": 4,
 "nbformat_minor": 2
}
