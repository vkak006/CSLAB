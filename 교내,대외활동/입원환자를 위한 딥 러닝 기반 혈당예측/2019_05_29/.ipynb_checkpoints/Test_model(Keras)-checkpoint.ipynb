{
 "cells": [
  {
   "cell_type": "code",
   "execution_count": 33,
   "metadata": {
    "collapsed": false,
    "scrolled": true
   },
   "outputs": [],
   "source": [
    "import tensorflow as tf\n",
    "import os\n",
    "import pandas as pd\n",
    "import math\n",
    "import numpy as np\n",
    "import matplotlib.pylab as plt\n",
    "import csv\n",
    "import keras\n",
    "import readData\n",
    "\n",
    "from keras.models import Sequential, Model, load_model\n",
    "from keras.layers import Dense, Input, Concatenate, concatenate\n",
    "from keras.layers import LSTM\n",
    "from keras.layers import Dropout\n",
    "from keras.utils import np_utils"
   ]
  },
  {
   "cell_type": "code",
   "execution_count": 48,
   "metadata": {
    "collapsed": false
   },
   "outputs": [
    {
     "name": "stdout",
     "output_type": "stream",
     "text": [
      "920087_train.csv\n",
      "822250_train.csv\n",
      "209019_train.csv\n",
      "85655_train.csv\n",
      "553778_train.csv\n",
      "579883_train.csv\n",
      "839654_train.csv\n",
      "1393413_train.csv\n",
      "1185429_train.csv\n",
      "1185429_test.csv\n",
      "839654_test.csv\n",
      "579883_test.csv\n",
      "85655_test.csv\n",
      "209019_test.csv\n",
      "822250_test.csv\n",
      "1393413_test.csv\n",
      "553778_test.csv\n",
      "920087_test.csv\n"
     ]
    }
   ],
   "source": [
    "PH = 30\n",
    "data = 'Just_Bi-LSTM'\n",
    "\n",
    "filename = os.listdir(\"data/pre-sch\")\n",
    "#print(filename)\n",
    "train_data_name = []\n",
    "test_data_name = []\n",
    "\n",
    "for fn in filename:\n",
    "    if fn.find(\"test\") != -1:\n",
    "        test_data_name.append(fn)\n",
    "    elif fn.find(\"train\") != -1:\n",
    "        train_data_name.append(fn)\n",
    "\n",
    "train_x_data = []\n",
    "train_y_data = []\n",
    "train_A1c_data = []\n",
    "train_DM_data = []\n",
    "train_BMI_data = []\n",
    "train_age_data = []\n",
    "train_AD_data = []\n",
    "\n",
    "test_x_data = []\n",
    "test_y_data = []\n",
    "test_A1c_data = []\n",
    "test_DM_data = []\n",
    "test_BMI_data = []\n",
    "test_age_data = []\n",
    "test_AD_data = []\n",
    "\n",
    "for fn in train_data_name:\n",
    "    if fn.find(\"885633\") != -1:\n",
    "        print(fn+\"제외\")\n",
    "    elif fn.find(\"365303\") != -1:\n",
    "        print(fn+\"제외\")\n",
    "    else:\n",
    "        print(str(fn))\n",
    "        x,y,A1c,DM,BMI,age,AD = readData.readData(\"data/pre-sch/\"+str(fn), PH)\n",
    "        train_x_data.append(x)\n",
    "        train_y_data.append(y)\n",
    "        train_A1c_data.append(A1c)\n",
    "        train_DM_data.append(DM)\n",
    "        train_BMI_data.append(BMI)\n",
    "        train_age_data.append(age)\n",
    "        train_AD_data.append(AD)\n",
    "        \n",
    "for fn in test_data_name:\n",
    "    print(str(fn))\n",
    "    if fn.find(\"885633\") != -1:\n",
    "        print(fn+\"제외\")\n",
    "    elif fn.find(\"365303\") != -1:\n",
    "        print(fn+\"제외\")\n",
    "    else:\n",
    "        x,y,A1c,DM,BMI,age,AD = readData.readData(\"data/pre-sch/\"+str(fn), PH)\n",
    "        test_x_data.append(x)\n",
    "        test_y_data.append(y)\n",
    "        test_A1c_data.append(A1c)\n",
    "        test_DM_data.append(DM)\n",
    "        test_BMI_data.append(BMI)\n",
    "        test_age_data.append(age)\n",
    "        test_AD_data.append(AD)\n",
    "\n",
    "######## Learning ########\n",
    "#print(train_y_data[0]) #환자 1명의 y, [[y값], ...]\n",
    "#print(train_A1c_data[0]) #환자 1명의 A1c, [[A1c], ...]\n",
    "#print(train_x_data[0]) #환자 1명의 x, [[혈당, 식사], ...]\n",
    "#print(train_AD_data[0])"
   ]
  },
  {
   "cell_type": "code",
   "execution_count": 49,
   "metadata": {
    "collapsed": false
   },
   "outputs": [
    {
     "name": "stdout",
     "output_type": "stream",
     "text": [
      "48.42490537335554\n",
      "50.530688756766196\n",
      "79.42352349928336\n",
      "28.101746534454357\n",
      "40.93957190701235\n",
      "70.69626503238106\n",
      "48.35844161229696\n",
      "55.00325079222514\n",
      "50.764441765996246\n",
      "52.47142614153014\n"
     ]
    }
   ],
   "source": [
    "model = load_model('Bi-LSTM+/'+ data +'/(PH' + str(PH) +')2019_05_29.h5')\n",
    "#model = load_model('age/(PH' + str(PH) +')2019_05_26.h5')\n",
    "\n",
    "RMSE = 0\n",
    "\n",
    "for p in range(len(train_x_data)):\n",
    "    #y_pred = model.predict(train_x_data[p])\n",
    "    y_pred = model.predict(train_x_data[p])\n",
    "    MSE = 0\n",
    "    size = 0\n",
    "    \n",
    "    for i in range(len(y_pred)):\n",
    "        #print(\"예측값 : \"+ str(y_pred[i]) + \"    실제값 : \"+ str(train_y_data[p][i]))\n",
    "        MSE = MSE + pow(y_pred[i][0]-train_y_data[p][i][0],2)\n",
    "        size = size + 1\n",
    "    MSE = math.sqrt(float(MSE/size))\n",
    "    RMSE = RMSE + MSE\n",
    "    #print(str(p) + '번째 환자 RMSE : ' + str(MSE))\n",
    "    print(MSE)\n",
    "\n",
    "RMSE = float(RMSE/len(train_x_data))\n",
    "print(RMSE)\n",
    "\n",
    "#model.save('BMI_2019_05_19.h5')"
   ]
  },
  {
   "cell_type": "code",
   "execution_count": null,
   "metadata": {
    "collapsed": true
   },
   "outputs": [],
   "source": []
  }
 ],
 "metadata": {
  "kernelspec": {
   "display_name": "Python 3",
   "language": "python",
   "name": "python3"
  },
  "language_info": {
   "codemirror_mode": {
    "name": "ipython",
    "version": 3
   },
   "file_extension": ".py",
   "mimetype": "text/x-python",
   "name": "python",
   "nbconvert_exporter": "python",
   "pygments_lexer": "ipython3",
   "version": "3.4.5"
  }
 },
 "nbformat": 4,
 "nbformat_minor": 2
}
