{
 "cells": [
  {
   "cell_type": "code",
   "execution_count": 1,
   "metadata": {
    "collapsed": false,
    "scrolled": true
   },
   "outputs": [
    {
     "name": "stdout",
     "output_type": "stream",
     "text": [
      "import readData complete\n",
      "Data load...\n",
      "822250_train.csv\n",
      "209019_train.csv\n",
      "85655_train.csv\n",
      "579883_train.csv\n",
      "839654_train.csv\n",
      "1393413_train.csv\n",
      "1185429_test.csv\n",
      "553778_test.csv\n",
      "920087_test.csv\n",
      "Data load Complete!\n"
     ]
    }
   ],
   "source": [
    "import tensorflow as tf\n",
    "import os\n",
    "import pandas as pd\n",
    "import math\n",
    "import numpy as np\n",
    "import matplotlib.pyplot as plt\n",
    "import csv\n",
    "import readData\n",
    "PH = 30\n",
    "category = 'epoch300'\n",
    "datapath = 'data/sch'\n",
    "\n",
    "filename = os.listdir(datapath)\n",
    "train_data_name = []\n",
    "test_data_name = []\n",
    "\n",
    "for fn in filename:\n",
    "    if fn.find(\"test\") != -1:\n",
    "        test_data_name.append(fn)\n",
    "    elif fn.find(\"train\") != -1:\n",
    "        train_data_name.append(fn)\n",
    "\n",
    "print(\"Data load...\")\n",
    "A1cList = []\n",
    "A1c_train = []\n",
    "A1c_test = []\n",
    "\n",
    "total_x_data = []\n",
    "total_y_data = []        \n",
    "\n",
    "test_x_data = []\n",
    "test_y_data = []\n",
    "train_x_data = []\n",
    "train_y_data = []\n",
    "\n",
    "for fn in train_data_name:\n",
    "    x,y,A1c,DM,BMI,age,AD = readData.readData(datapath+\"/\"+str(fn), PH)\n",
    "    train_x_data.append(x)\n",
    "    total_x_data.append(x)\n",
    "    train_y_data.append(y)\n",
    "    total_y_data.append(y)\n",
    "    A1cList.append(A1c)\n",
    "    A1c_train.append(A1c)\n",
    "    print(fn)\n",
    "\n",
    "for fn in test_data_name:\n",
    "    x,y,A1c,DM,BMI,age,AD = readData.readData(datapath+\"/\"+str(fn), PH)\n",
    "    test_x_data.append(x)\n",
    "    #total_x_data.append(x)\n",
    "    test_y_data.append(y)\n",
    "    #total_y_data.append(y)\n",
    "    #A1cList.append(A1c)\n",
    "    A1c_test.append(A1c)\n",
    "    print(fn)\n",
    "    \n",
    "print(\"Data load Complete!\")"
   ]
  },
  {
   "cell_type": "code",
   "execution_count": 2,
   "metadata": {
    "collapsed": false
   },
   "outputs": [
    {
     "name": "stdout",
     "output_type": "stream",
     "text": [
      "WARNING:tensorflow:From <ipython-input-2-278341f78edf>:11: BasicLSTMCell.__init__ (from tensorflow.python.ops.rnn_cell_impl) is deprecated and will be removed in a future version.\n",
      "Instructions for updating:\n",
      "This class is deprecated, please use tf.nn.rnn_cell.LSTMCell, which supports all the feature this cell currently has. Please replace the existing code with tf.nn.rnn_cell.LSTMCell(name='basic_lstm_cell').\n",
      "Weight of Pre train load...\n",
      "--------------------------------------------------\n",
      "INFO:tensorflow:Restoring parameters from ./PH30_pretrain.ckpt\n",
      "Weight of Pre train load \n",
      "Learning start...\n",
      "--------------------------------------------------\n",
      "0.0%\n",
      "16.666666666666664%\n",
      "33.33333333333333%\n",
      "50.0%\n",
      "66.66666666666666%\n",
      "83.33333333333334%\n",
      "Learning Complete!\n"
     ]
    }
   ],
   "source": [
    "X = tf.placeholder(tf.float32,shape=[None,7,1])\n",
    "Y = tf.placeholder(tf.float32,shape=[None,1])\n",
    "\n",
    "'''\n",
    "W = tf.Variable(tf.random_uniform([1,15], minval = -1, maxval = 1, dtype = tf.float32))\n",
    "b = tf.Variable(tf.zeros([1,15],dtype = tf.float32))\n",
    "\n",
    "W1 = tf.Variable(tf.random_uniform([15,1], minval = -1, maxval = 1, dtype = tf.float32))\n",
    "b1 = tf.Variable(tf.zeros([1,1],dtype = tf.float32))'''\n",
    "\n",
    "cell = tf.contrib.rnn.BasicLSTMCell(num_units=20,state_is_tuple=True,activation=tf.tanh)\n",
    "outputs, _states = tf.nn.dynamic_rnn(cell,X,dtype=tf.float32)\n",
    "\n",
    "Y_p = tf.contrib.layers.fully_connected(outputs[:,-1],64,activation_fn=None)\n",
    "Y_p2 = tf.contrib.layers.fully_connected(Y_p,10,activation_fn=None)\n",
    "O1 = tf.contrib.layers.fully_connected(Y_p2,1,activation_fn=None)\n",
    "\n",
    "save_file = './PH30_pretrain.ckpt'\n",
    "saver = tf.train.Saver()\n",
    "\n",
    "A1c = tf.placeholder(tf.float32,shape=[None,1])\n",
    "Y_A = tf.contrib.layers.fully_connected(A1c,10,activation_fn=tf.sigmoid)\n",
    "O2 = tf.contrib.layers.fully_connected(Y_A,1,activation_fn=tf.sigmoid)\n",
    "#Y_pr = tf.contrib.layers.fully_connected(Y_p+Y_A,1,activation_fn=None)\n",
    "Y_pr = tf.contrib.layers.fully_connected(O1+O2,15,activation_fn=None)\n",
    "\n",
    "Y_pre =  tf.contrib.layers.fully_connected(Y_pr,1,activation_fn=None)\n",
    "\n",
    "rmse = tf.sqrt(tf.reduce_mean(tf.square(tf.subtract(Y, Y_pre))))\n",
    "loss = tf.reduce_sum(tf.square(Y_pre - Y))\n",
    "optimizer = tf.train.AdamOptimizer(learning_rate = 0.01)\n",
    "train = optimizer.minimize(loss)\n",
    "\n",
    "sess = tf.Session()\n",
    "sess.run(tf.global_variables_initializer())\n",
    "\n",
    "print(\"Weight of Pre train load...\")\n",
    "print(\"--------------------------------------------------\")\n",
    "saver.restore(sess, save_file)\n",
    "print(\"Weight of Pre train load \")\n",
    "\n",
    "print(\"Learning start...\")\n",
    "print(\"--------------------------------------------------\")\n",
    "for loop in range(len(total_x_data)):\n",
    "    for i in  range(300):\n",
    "        sess.run(train,feed_dict = {X:train_x_data[loop],Y:train_y_data[loop],A1c:A1cList[loop]})\n",
    "        #sess.run(train,feed_dict = {X:total_x_data[loop],Y:total_y_data[loop]})\n",
    "    print(str(loop / len(total_x_data) * 100) + \"%\")\n",
    "\n",
    "print(\"Learning Complete!\")"
   ]
  },
  {
   "cell_type": "code",
   "execution_count": 4,
   "metadata": {
    "collapsed": false,
    "scrolled": false
   },
   "outputs": [
    {
     "name": "stdout",
     "output_type": "stream",
     "text": [
      "****** 실제 혈당 / 예측 혈당 (PH 30분 뒤) ******\n",
      "--------------------------------------------------\n",
      "실제 혈당 : [ 250.] / 예측 혈당 : 232.937\n",
      "실제 혈당 : [ 249.] / 예측 혈당 : 235.558\n",
      "실제 혈당 : [ 244.] / 예측 혈당 : 240.959\n",
      "실제 혈당 : [ 243.] / 예측 혈당 : 242.462\n",
      "실제 혈당 : [ 239.] / 예측 혈당 : 245.631\n",
      "...\n",
      "--------------------------------------------------\n",
      "* 전체 평균 rmse : 17.9447257692\n",
      "* Blue : 실제 혈당 / Red : 예측 혈당\n"
     ]
    },
    {
     "data": {
      "image/png": "[encoded data removed]",
      "text/plain": [
       "<matplotlib.figure.Figure at 0x7f07e0107240>"
      ]
     },
     "metadata": {},
     "output_type": "display_data"
    }
   ],
   "source": [
    "top = 0\n",
    "patient_num = 1\n",
    "\n",
    "print(\"****** 실제 혈당 / 예측 혈당 (PH \" + str(PH) + \"분 뒤) ******\")\n",
    "print(\"--------------------------------------------------\")\n",
    "\n",
    "pre_List = []\n",
    "for loop in range(len(test_x_data)):\n",
    "    for i,k in enumerate(test_x_data[patient_num]):\n",
    "        ln = sess.run(Y_pre,feed_dict={X:[k],A1c:A1c_test[0]})\n",
    "        if top < 5:\n",
    "            print(\"실제 혈당 : \"+str(test_y_data[patient_num][i])+\" / 예측 혈당 : \"+str(ln[0][0]))\n",
    "            top += 1\n",
    "        pre_List.append(ln[0][0])\n",
    "        #print([sess.run(Y_p,feed_dict={X:[k]})[0][0],10.0])\n",
    "    break;\n",
    "\n",
    "rmse_total = 0.0\n",
    "rmse_one = 0.0\n",
    "total_num = 0\n",
    "one_person_num = 0\n",
    "for size in range(len(test_x_data)):\n",
    "    one_person_num = 0\n",
    "    rmse_one = 0\n",
    "    for i,k in enumerate(test_x_data[size]):\n",
    "        total_num += 1\n",
    "        one_person_num += 1\n",
    "        #print(sess.run(rmse,feed_dict={X:[k],Y:[test_y_data[size][i]],A1c:[A1c_test[size][i]],G:[glucose_test[size][i]]}))\n",
    "        tmp = sess.run(rmse,feed_dict={X:[k],Y:[test_y_data[size][i]],A1c:[A1c_test[size][i]]})\n",
    "        rmse_total += tmp\n",
    "        rmse_one += tmp\n",
    "    #print(str(size+1)+\"번째 환자 rmse : \"+str(rmse_one/float(one_person_num)))\n",
    "\n",
    "rmse_total = rmse_total / float(total_num)\n",
    "\n",
    "print(\"...\")\n",
    "print(\"--------------------------------------------------\")\n",
    "print(\"* 전체 평균 rmse : \"+str(rmse_total))\n",
    "print(\"* Blue : 실제 혈당 / Red : 예측 혈당\")\n",
    "\n",
    "plt.plot(pre_List,'r--')\n",
    "plt.plot(test_y_data[patient_num],color=\"blue\")\n",
    "plt.show()"
   ]
  },
  {
   "cell_type": "code",
   "execution_count": null,
   "metadata": {
    "collapsed": true
   },
   "outputs": [],
   "source": []
  }
 ],
 "metadata": {
  "kernelspec": {
   "display_name": "Python 3",
   "language": "python",
   "name": "python3"
  },
  "language_info": {
   "codemirror_mode": {
    "name": "ipython",
    "version": 3
   },
   "file_extension": ".py",
   "mimetype": "text/x-python",
   "name": "python",
   "nbconvert_exporter": "python",
   "pygments_lexer": "ipython3",
   "version": "3.4.5"
  }
 },
 "nbformat": 4,
 "nbformat_minor": 2
}
