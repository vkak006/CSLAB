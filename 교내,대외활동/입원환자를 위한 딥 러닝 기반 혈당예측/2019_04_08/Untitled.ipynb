{
 "cells": [
  {
   "cell_type": "code",
   "execution_count": 64,
   "metadata": {
    "collapsed": false
   },
   "outputs": [
    {
     "name": "stdout",
     "output_type": "stream",
     "text": [
      "920087_train.csv\n",
      "822250_train.csv\n",
      "209019_train.csv\n",
      "85655_train.csv\n",
      "553778_train.csv\n",
      "579883_train.csv\n",
      "839654_train.csv\n",
      "1393413_train.csv\n",
      "365303_train.csv제외\n",
      "1185429_train.csv\n",
      "885633_train.csv제외\n",
      "1185429_test.csv\n",
      "839654_test.csv\n",
      "579883_test.csv\n",
      "85655_test.csv\n",
      "209019_test.csv\n",
      "365303_test.csv\n",
      "365303_test.csv제외\n",
      "885633_test.csv\n",
      "885633_test.csv제외\n",
      "822250_test.csv\n",
      "1393413_test.csv\n",
      "553778_test.csv\n",
      "920087_test.csv\n",
      "(550, 2)\n"
     ]
    }
   ],
   "source": [
    "import tensorflow as tf\n",
    "import os\n",
    "import pandas as pd\n",
    "import math\n",
    "import numpy as np\n",
    "import matplotlib.pylab as plt\n",
    "import csv\n",
    "\n",
    "\n",
    "PH = 5\n",
    "\n",
    "def readData(filename):\n",
    "    EntryData = []\n",
    "    x_data = []\n",
    "    y_data = []\n",
    "    tmp_x = []\n",
    "    tmp_y = []\n",
    "    with open(filename,'r') as f:\n",
    "        for line in f:\n",
    "            g, m = line.replace('\\n','').split(',')\n",
    "            EntryData.append([float(g),float(m)])\n",
    "            \n",
    "    df = pd.Series(EntryData)\n",
    "    \n",
    "    while True:\n",
    "        for i in df[0:7]:\n",
    "            tmp_x.append([i[0],i[1]])\n",
    "            \n",
    "        tmp_y.append(df[7 + (PH/5)][0])\n",
    "        tmp_y.append(df[7 + (PH/5)][1])\n",
    "        \n",
    "        x_data.append(tmp_x)\n",
    "        y_data.append(tmp_y)\n",
    "\n",
    "        tmp_x = []\n",
    "        tmp_y = []\n",
    "        df = df.shift(-1)\n",
    "        \n",
    "        if type(df[7+(PH/5)]) == float:\n",
    "            break\n",
    "\n",
    "    #if(len(x_data[-1]) != 7):\n",
    "       #Size = 7-len(x_data[-1])\n",
    "       #for i in range(xSize):\n",
    "           #x_data[-1].append(0.0)\n",
    "    #if(len(y_data[-1])!=1):\n",
    "       #y_data[-1].append(0.0)\n",
    "\n",
    "    x_data = np.asarray(x_data)\n",
    "    y_data = np.asarray(y_data)\n",
    "    data = [x_data,y_data]\n",
    "    return data\n",
    "\n",
    "\n",
    "\n",
    "filename = os.listdir(\"sch\")\n",
    "\n",
    "train_data_name = []\n",
    "test_data_name = []\n",
    "\n",
    "for fn in filename:\n",
    "    if fn.find(\"test\") != -1:\n",
    "        test_data_name.append(fn)\n",
    "    elif fn.find(\"train\") != -1:\n",
    "        train_data_name.append(fn)\n",
    "\n",
    "#total_x_data = []\n",
    "#total_y_data = []        \n",
    "\n",
    "train_x_data = []\n",
    "train_y_data = []\n",
    "\n",
    "for fn in train_data_name:\n",
    "    if fn.find(\"885633\") != -1:\n",
    "        print(fn+\"제외\")\n",
    "    elif fn.find(\"365303\") != -1:\n",
    "        print(fn+\"제외\")\n",
    "    else:\n",
    "        print(str(fn))\n",
    "        x,y = readData(\"sch/\"+str(fn))\n",
    "        train_x_data.append(x)\n",
    "        #total_x_data.append(x)\n",
    "        train_y_data.append(y)\n",
    "        #total_y_data.append(y)\n",
    "\n",
    "\n",
    "test_x_data = []\n",
    "test_y_data = []\n",
    "for fn in test_data_name:\n",
    "    print(str(fn))\n",
    "    if fn.find(\"885633\") != -1:\n",
    "        print(fn+\"제외\")\n",
    "    elif fn.find(\"365303\") != -1:\n",
    "        print(fn+\"제외\")\n",
    "    else:\n",
    "        x,y = readData(\"sch/\"+str(fn))\n",
    "        test_x_data.append(x)\n",
    "        #total_x_data.append(x)\n",
    "        test_y_data.append(y)\n",
    "        #total_y_data.append(y)\n",
    "#print(A1cList)\n",
    "#print(total_y_data)\n",
    "\n",
    "\n"
   ]
  },
  {
   "cell_type": "code",
   "execution_count": 66,
   "metadata": {
    "collapsed": false
   },
   "outputs": [
    {
     "name": "stdout",
     "output_type": "stream",
     "text": [
      "(748, 7, 2)\n",
      "(748, 2)\n",
      "(550, 7, 2)\n",
      "(550, 2)\n"
     ]
    }
   ],
   "source": [
    "\n",
    "print(train_x_data[0].shape)\n",
    "print(train_y_data[0].shape)\n",
    "print(test_x_data[0].shape)\n",
    "print(test_y_data[0].shape)"
   ]
  },
  {
   "cell_type": "code",
   "execution_count": null,
   "metadata": {
    "collapsed": true
   },
   "outputs": [],
   "source": []
  }
 ],
 "metadata": {
  "kernelspec": {
   "display_name": "Python 3",
   "language": "python",
   "name": "python3"
  },
  "language_info": {
   "codemirror_mode": {
    "name": "ipython",
    "version": 3
   },
   "file_extension": ".py",
   "mimetype": "text/x-python",
   "name": "python",
   "nbconvert_exporter": "python",
   "pygments_lexer": "ipython3",
   "version": "3.4.5"
  }
 },
 "nbformat": 4,
 "nbformat_minor": 2
}
