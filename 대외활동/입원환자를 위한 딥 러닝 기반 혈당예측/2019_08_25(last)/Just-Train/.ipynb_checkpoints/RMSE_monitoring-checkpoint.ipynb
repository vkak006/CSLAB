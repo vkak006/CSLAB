{
 "cells": [
  {
   "cell_type": "code",
   "execution_count": 1,
   "metadata": {
    "collapsed": false
   },
   "outputs": [
    {
     "name": "stderr",
     "output_type": "stream",
     "text": [
      "Using TensorFlow backend.\n"
     ]
    },
    {
     "name": "stdout",
     "output_type": "stream",
     "text": [
      "import readData complete\n",
      "822250_train.csv\n",
      "209019_train.csv\n",
      "85655_train.csv\n",
      "579883_train.csv\n",
      "839654_train.csv\n",
      "1393413_train.csv\n",
      "1185429_test.csv\n",
      "553778_test.csv\n",
      "920087_test.csv\n"
     ]
    }
   ],
   "source": [
    "import tensorflow as tf\n",
    "import os\n",
    "import pandas as pd\n",
    "import math\n",
    "import numpy as np\n",
    "import matplotlib.pylab as plt\n",
    "import csv\n",
    "import keras\n",
    "import sys\n",
    "import readData\n",
    "\n",
    "from keras.models import Sequential, Model, load_model\n",
    "from keras.layers import Dense, Input, Concatenate, concatenate\n",
    "from keras.layers import LSTM\n",
    "from keras.layers import Dropout\n",
    "from keras.utils import np_utils\n",
    "\n",
    "PH = 30\n",
    "PH = int(PH)\n",
    "#category = sys.argv[2] # Bi-LSTM, LSTM\n",
    "modelname = 'HbA1c'\n",
    "datapath = 'data/sch'\n",
    "\n",
    "filename = os.listdir(datapath)\n",
    "#print(filename)\n",
    "train_data_name = []\n",
    "test_data_name = []\n",
    "\n",
    "for fn in filename:\n",
    "    if fn.find(\"test\") != -1:\n",
    "        test_data_name.append(fn)\n",
    "    elif fn.find(\"train\") != -1:\n",
    "        train_data_name.append(fn)\n",
    "\n",
    "train_x_data = []\n",
    "train_y_data = []\n",
    "train_A1c_data = []\n",
    "train_DM_data = []\n",
    "train_BMI_data = []\n",
    "train_age_data = []\n",
    "train_AD_data = []\n",
    "\n",
    "test_x_data = []\n",
    "test_y_data = []\n",
    "test_A1c_data = []\n",
    "test_DM_data = []\n",
    "test_BMI_data = []\n",
    "test_age_data = []\n",
    "test_AD_data = []\n",
    "\n",
    "for fn in train_data_name:\n",
    "    print(str(fn))\n",
    "    x,y,A1c,DM,BMI,age,AD = readData.readData(datapath+\"/\"+str(fn), PH)\n",
    "    train_x_data.append(x)\n",
    "    train_y_data.append(y)\n",
    "    train_A1c_data.append(A1c)\n",
    "    train_DM_data.append(DM)\n",
    "    train_BMI_data.append(BMI)\n",
    "    train_age_data.append(age)\n",
    "    train_AD_data.append(AD)\n",
    "        \n",
    "for fn in test_data_name:\n",
    "    print(str(fn))\n",
    "    x,y,A1c,DM,BMI,age,AD = readData.readData(datapath+\"/\"+str(fn), PH)\n",
    "    test_x_data.append(x)\n",
    "    test_y_data.append(y)\n",
    "    test_A1c_data.append(A1c)\n",
    "    test_DM_data.append(DM)\n",
    "    test_BMI_data.append(BMI)\n",
    "    test_age_data.append(age)\n",
    "    test_AD_data.append(AD)"
   ]
  },
  {
   "cell_type": "code",
   "execution_count": 5,
   "metadata": {
    "collapsed": false
   },
   "outputs": [
    {
     "name": "stdout",
     "output_type": "stream",
     "text": [
      "----- Model : Just -----\n",
      "----- PH : 30 -----\n",
      "0번째 환자 RMSE : 22.640884331847815\n",
      "1번째 환자 RMSE : 19.280575709327785\n",
      "2번째 환자 RMSE : 23.284514598331\n",
      "21.73532487983553\n"
     ]
    }
   ],
   "source": [
    "######## Reading ########\n",
    "print('----- Model : '+ modelname +' -----')\n",
    "print('----- PH : '+ str(PH) +' -----')\n",
    "\n",
    "model = load_model('result/PH'+str(PH)+'_'+modelname+'_Epoch300.h5')\n",
    "RMSE = 0\n",
    "\n",
    "for q in range(len(test_x_data)):\n",
    "    if modelname == 'Just':\n",
    "        y_pred = model.predict(test_x_data[q])\n",
    "    elif modelname == 'HbA1c':\n",
    "        y_pred = model.predict([test_x_data[q],test_A1c_data[q]]) # data error. A1c <-> DM\n",
    "    elif modelname == 'DM':\n",
    "        y_pred = model.predict([test_x_data[q],test_DM_data[q]]) # data error. A1c <-> DM\n",
    "    elif modelname == 'BMI':\n",
    "        y_pred = model.predict([test_x_data[q],test_BMI_data[q]])\n",
    "            \n",
    "    MSE = 0\n",
    "    size = 0\n",
    "        \n",
    "    for i in range(len(y_pred)):\n",
    "        #print(\"예측값 : \"+ str(y_pred[i]) + \"    실제값 : \"+ str(train_y_data[q][i]))\n",
    "        MSE = MSE + pow(y_pred[i][0]-test_y_data[q][i][0],2)\n",
    "        size = size + 1\n",
    "    MSE = math.sqrt(float(MSE/size))\n",
    "    RMSE = RMSE + MSE\n",
    "    print(str(q) + '번째 환자 RMSE : ' + str(MSE))\n",
    "    #print(MSE)\n",
    "\n",
    "RMSE = float(RMSE/len(test_x_data))\n",
    "print(RMSE)"
   ]
  },
  {
   "cell_type": "code",
   "execution_count": null,
   "metadata": {
    "collapsed": true
   },
   "outputs": [],
   "source": []
  }
 ],
 "metadata": {
  "kernelspec": {
   "display_name": "Python 3",
   "language": "python",
   "name": "python3"
  },
  "language_info": {
   "codemirror_mode": {
    "name": "ipython",
    "version": 3
   },
   "file_extension": ".py",
   "mimetype": "text/x-python",
   "name": "python",
   "nbconvert_exporter": "python",
   "pygments_lexer": "ipython3",
   "version": "3.4.5"
  }
 },
 "nbformat": 4,
 "nbformat_minor": 2
}
