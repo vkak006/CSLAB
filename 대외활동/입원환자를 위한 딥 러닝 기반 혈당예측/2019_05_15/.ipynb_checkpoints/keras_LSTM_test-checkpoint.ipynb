{
 "cells": [
  {
   "cell_type": "code",
   "execution_count": 1,
   "metadata": {
    "collapsed": false,
    "scrolled": true
   },
   "outputs": [
    {
     "name": "stdout",
     "output_type": "stream",
     "text": [
      "import readData complete\n"
     ]
    },
    {
     "name": "stderr",
     "output_type": "stream",
     "text": [
      "Using TensorFlow backend.\n"
     ]
    }
   ],
   "source": [
    "import tensorflow as tf\n",
    "import os\n",
    "import pandas as pd\n",
    "import math\n",
    "import numpy as np\n",
    "import matplotlib.pylab as plt\n",
    "import csv\n",
    "import keras\n",
    "import readData\n",
    "\n",
    "from keras.models import Sequential, Model, load_model\n",
    "from keras.layers import Dense, Input, Concatenate, concatenate\n",
    "from keras.layers import LSTM\n",
    "from keras.layers import Dropout\n",
    "from keras.utils import np_utils"
   ]
  },
  {
   "cell_type": "code",
   "execution_count": 2,
   "metadata": {
    "collapsed": false
   },
   "outputs": [
    {
     "name": "stdout",
     "output_type": "stream",
     "text": [
      "920087_train.csv\n",
      "822250_train.csv\n",
      "209019_train.csv\n",
      "85655_train.csv\n",
      "553778_train.csv\n",
      "579883_train.csv\n",
      "839654_train.csv\n",
      "1393413_train.csv\n",
      "365303_train.csv제외\n",
      "1185429_train.csv\n",
      "885633_train.csv제외\n",
      "1185429_test.csv\n",
      "839654_test.csv\n",
      "579883_test.csv\n",
      "85655_test.csv\n",
      "209019_test.csv\n",
      "365303_test.csv\n",
      "365303_test.csv제외\n",
      "885633_test.csv\n",
      "885633_test.csv제외\n",
      "822250_test.csv\n",
      "1393413_test.csv\n",
      "553778_test.csv\n",
      "920087_test.csv\n"
     ]
    }
   ],
   "source": [
    "PH = 60\n",
    "\n",
    "filename = os.listdir(\"sch\")\n",
    "#print(filename)\n",
    "train_data_name = []\n",
    "test_data_name = []\n",
    "\n",
    "for fn in filename:\n",
    "    if fn.find(\"test\") != -1:\n",
    "        test_data_name.append(fn)\n",
    "    elif fn.find(\"train\") != -1:\n",
    "        train_data_name.append(fn)\n",
    "\n",
    "train_x_data = []\n",
    "train_y_data = []\n",
    "train_A1c_data = []\n",
    "train_DM_data = []\n",
    "train_AD_data = []\n",
    "\n",
    "test_x_data = []\n",
    "test_y_data = []\n",
    "test_A1c_data = []\n",
    "test_DM_data = []\n",
    "test_AD_data = []\n",
    "\n",
    "for fn in train_data_name:\n",
    "    if fn.find(\"885633\") != -1:\n",
    "        print(fn+\"제외\")\n",
    "    elif fn.find(\"365303\") != -1:\n",
    "        print(fn+\"제외\")\n",
    "    else:\n",
    "        print(str(fn))\n",
    "        x,y,A1c,DM,AD = readData.readData(\"sch/\"+str(fn), PH)\n",
    "        train_x_data.append(x)\n",
    "        train_y_data.append(y)\n",
    "        train_A1c_data.append(A1c)\n",
    "        train_DM_data.append(DM)\n",
    "        train_AD_data.append(AD)\n",
    "        \n",
    "for fn in test_data_name:\n",
    "    print(str(fn))\n",
    "    if fn.find(\"885633\") != -1:\n",
    "        print(fn+\"제외\")\n",
    "    elif fn.find(\"365303\") != -1:\n",
    "        print(fn+\"제외\")\n",
    "    else:\n",
    "        x,y,A1c,DM,AD = readData.readData(\"sch/\"+str(fn), PH)\n",
    "        test_x_data.append(x)\n",
    "        test_y_data.append(y)\n",
    "        test_A1c_data.append(A1c)\n",
    "        test_DM_data.append(DM)\n",
    "        test_AD_data.append(AD)\n",
    "\n",
    "######## Learning ########\n",
    "#print(train_y_data[0]) #환자 1명의 y, [[y값], ...]\n",
    "#print(train_A1c_data[0]) #환자 1명의 A1c, [[A1c], ...]\n",
    "#print(train_x_data[0]) #환자 1명의 x, [[혈당, 식사], ...]\n",
    "#print(train_AD_data[0])"
   ]
  },
  {
   "cell_type": "code",
   "execution_count": 3,
   "metadata": {
    "collapsed": false
   },
   "outputs": [
    {
     "name": "stdout",
     "output_type": "stream",
     "text": [
      "0번째 환자 RMSE : 36.41294387308938\n",
      "1번째 환자 RMSE : 31.791235336822112\n",
      "2번째 환자 RMSE : 56.72417867853487\n",
      "3번째 환자 RMSE : 20.853559178040367\n",
      "4번째 환자 RMSE : 29.677992769231675\n",
      "5번째 환자 RMSE : 43.24971158816526\n",
      "6번째 환자 RMSE : 44.29417780927841\n",
      "7번째 환자 RMSE : 46.33714067437562\n",
      "8번째 환자 RMSE : 33.87525538276325\n",
      "38.13513281003345\n"
     ]
    }
   ],
   "source": [
    "model = load_model('2019_05_15_PH60.h5')\n",
    "\n",
    "RMSE = 0\n",
    "\n",
    "for p in range(len(train_x_data)):\n",
    "    y_pred = model.predict([train_x_data[p],train_AD_data[p]])\n",
    "    MSE = 0\n",
    "    size = 0\n",
    "\n",
    "    for i in range(len(y_pred)):\n",
    "        #print(\"예측값 : \"+ str(y_pred[i]) + \"    실제값 : \"+ str(train_y_data[p][i]))\n",
    "        MSE = MSE + pow(y_pred[i][0]-train_y_data[p][i][0],2)\n",
    "        size = size + 1\n",
    "    MSE = math.sqrt(float(MSE/size))\n",
    "    RMSE = RMSE + MSE\n",
    "    #print(str(p) + '번째 환자 RMSE : ' + str(MSE))\n",
    "    print(MSE)\n",
    "\n",
    "RMSE = float(RMSE/len(train_x_data))\n",
    "print(RMSE)\n",
    "\n",
    "#model.save('2019_05_15_result.h5')"
   ]
  },
  {
   "cell_type": "code",
   "execution_count": null,
   "metadata": {
    "collapsed": true
   },
   "outputs": [],
   "source": []
  }
 ],
 "metadata": {
  "kernelspec": {
   "display_name": "Python 3",
   "language": "python",
   "name": "python3"
  },
  "language_info": {
   "codemirror_mode": {
    "name": "ipython",
    "version": 3
   },
   "file_extension": ".py",
   "mimetype": "text/x-python",
   "name": "python",
   "nbconvert_exporter": "python",
   "pygments_lexer": "ipython3",
   "version": "3.4.5"
  }
 },
 "nbformat": 4,
 "nbformat_minor": 2
}
